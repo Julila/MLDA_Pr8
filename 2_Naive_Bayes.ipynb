{
 "cells": [
  {
   "cell_type": "code",
   "execution_count": 1,
   "metadata": {},
   "outputs": [],
   "source": [
    "from sklearn.feature_extraction.text import TfidfVectorizer\n",
    "from sklearn.cluster import KMeans\n",
    "import numpy as np\n",
    "import pandas as pd\n",
    "from time import time\n",
    "from sklearn.feature_extraction.text import TfidfVectorizer, CountVectorizer\n",
    "from sklearn.naive_bayes import MultinomialNB\n",
    "from sklearn import metrics \n",
    "from sklearn.metrics import confusion_matrix\n",
    "import matplotlib.pyplot as plt\n",
    "import seaborn as sns"
   ]
  },
  {
   "cell_type": "code",
   "execution_count": 2,
   "metadata": {},
   "outputs": [],
   "source": [
    "# Loading pre-processed data / Creating training and test data sets"
   ]
  },
  {
   "cell_type": "code",
   "execution_count": 3,
   "metadata": {},
   "outputs": [],
   "source": [
    "data = pd.read_csv('cleaned_data.csv') # load cleaned data"
   ]
  },
  {
   "cell_type": "code",
   "execution_count": 4,
   "metadata": {},
   "outputs": [
    {
     "data": {
      "text/html": [
       "<div>\n",
       "<style scoped>\n",
       "    .dataframe tbody tr th:only-of-type {\n",
       "        vertical-align: middle;\n",
       "    }\n",
       "\n",
       "    .dataframe tbody tr th {\n",
       "        vertical-align: top;\n",
       "    }\n",
       "\n",
       "    .dataframe thead th {\n",
       "        text-align: right;\n",
       "    }\n",
       "</style>\n",
       "<table border=\"1\" class=\"dataframe\">\n",
       "  <thead>\n",
       "    <tr style=\"text-align: right;\">\n",
       "      <th></th>\n",
       "      <th>review</th>\n",
       "      <th>sentiment</th>\n",
       "      <th>lemmatization</th>\n",
       "      <th>stemming</th>\n",
       "    </tr>\n",
       "  </thead>\n",
       "  <tbody>\n",
       "    <tr>\n",
       "      <th>0</th>\n",
       "      <td>one reviewers mentioned watching oz episode ho...</td>\n",
       "      <td>positive</td>\n",
       "      <td>reviewer mentioned oz episode hooked exactly h...</td>\n",
       "      <td>one review mention watch oz episod hook right ...</td>\n",
       "    </tr>\n",
       "    <tr>\n",
       "      <th>1</th>\n",
       "      <td>wonderful little production filming technique ...</td>\n",
       "      <td>positive</td>\n",
       "      <td>wonderful production filming technique unassum...</td>\n",
       "      <td>wonder littl product film techniqu unassum old...</td>\n",
       "    </tr>\n",
       "    <tr>\n",
       "      <th>2</th>\n",
       "      <td>thought wonderful way spend time hot summer we...</td>\n",
       "      <td>positive</td>\n",
       "      <td>wonderful spend hot summer weekend sitting air...</td>\n",
       "      <td>thought wonder way spend time hot summer weeke...</td>\n",
       "    </tr>\n",
       "    <tr>\n",
       "      <th>3</th>\n",
       "      <td>basically family little boy jake thinks zombie...</td>\n",
       "      <td>negative</td>\n",
       "      <td>basically family boy jake zombie closet parent...</td>\n",
       "      <td>basic famili littl boy jake think zombi closet...</td>\n",
       "    </tr>\n",
       "    <tr>\n",
       "      <th>4</th>\n",
       "      <td>petter mattei love time money visually stunnin...</td>\n",
       "      <td>positive</td>\n",
       "      <td>petter mattei money visually stunning mr matte...</td>\n",
       "      <td>petter mattei love time money visual stun film...</td>\n",
       "    </tr>\n",
       "    <tr>\n",
       "      <th>...</th>\n",
       "      <td>...</td>\n",
       "      <td>...</td>\n",
       "      <td>...</td>\n",
       "      <td>...</td>\n",
       "    </tr>\n",
       "    <tr>\n",
       "      <th>49577</th>\n",
       "      <td>thought movie right good job creative original...</td>\n",
       "      <td>positive</td>\n",
       "      <td>job creative original expecting whole lotta fu...</td>\n",
       "      <td>thought movi right good job creativ origin fir...</td>\n",
       "    </tr>\n",
       "    <tr>\n",
       "      <th>49578</th>\n",
       "      <td>bad plot bad dialogue bad acting idiotic direc...</td>\n",
       "      <td>negative</td>\n",
       "      <td>dialogue idiotic directing annoying porn groov...</td>\n",
       "      <td>bad plot bad dialogu bad act idiot direct anno...</td>\n",
       "    </tr>\n",
       "    <tr>\n",
       "      <th>49579</th>\n",
       "      <td>catholic taught parochial elementary schools n...</td>\n",
       "      <td>negative</td>\n",
       "      <td>catholic taught parochial elementary school nu...</td>\n",
       "      <td>cathol taught parochi elementari school nun ta...</td>\n",
       "    </tr>\n",
       "    <tr>\n",
       "      <th>49580</th>\n",
       "      <td>going disagree previous comment side maltin on...</td>\n",
       "      <td>negative</td>\n",
       "      <td>disagree previous comment side maltin second r...</td>\n",
       "      <td>go disagre previou comment side maltin one sec...</td>\n",
       "    </tr>\n",
       "    <tr>\n",
       "      <th>49581</th>\n",
       "      <td>one expects star trek movies high art fans exp...</td>\n",
       "      <td>negative</td>\n",
       "      <td>expects trek high art fan expect episode unfor...</td>\n",
       "      <td>one expect star trek movi high art fan expect ...</td>\n",
       "    </tr>\n",
       "  </tbody>\n",
       "</table>\n",
       "<p>49582 rows × 4 columns</p>\n",
       "</div>"
      ],
      "text/plain": [
       "                                                  review sentiment  \\\n",
       "0      one reviewers mentioned watching oz episode ho...  positive   \n",
       "1      wonderful little production filming technique ...  positive   \n",
       "2      thought wonderful way spend time hot summer we...  positive   \n",
       "3      basically family little boy jake thinks zombie...  negative   \n",
       "4      petter mattei love time money visually stunnin...  positive   \n",
       "...                                                  ...       ...   \n",
       "49577  thought movie right good job creative original...  positive   \n",
       "49578  bad plot bad dialogue bad acting idiotic direc...  negative   \n",
       "49579  catholic taught parochial elementary schools n...  negative   \n",
       "49580  going disagree previous comment side maltin on...  negative   \n",
       "49581  one expects star trek movies high art fans exp...  negative   \n",
       "\n",
       "                                           lemmatization  \\\n",
       "0      reviewer mentioned oz episode hooked exactly h...   \n",
       "1      wonderful production filming technique unassum...   \n",
       "2      wonderful spend hot summer weekend sitting air...   \n",
       "3      basically family boy jake zombie closet parent...   \n",
       "4      petter mattei money visually stunning mr matte...   \n",
       "...                                                  ...   \n",
       "49577  job creative original expecting whole lotta fu...   \n",
       "49578  dialogue idiotic directing annoying porn groov...   \n",
       "49579  catholic taught parochial elementary school nu...   \n",
       "49580  disagree previous comment side maltin second r...   \n",
       "49581  expects trek high art fan expect episode unfor...   \n",
       "\n",
       "                                                stemming  \n",
       "0      one review mention watch oz episod hook right ...  \n",
       "1      wonder littl product film techniqu unassum old...  \n",
       "2      thought wonder way spend time hot summer weeke...  \n",
       "3      basic famili littl boy jake think zombi closet...  \n",
       "4      petter mattei love time money visual stun film...  \n",
       "...                                                  ...  \n",
       "49577  thought movi right good job creativ origin fir...  \n",
       "49578  bad plot bad dialogu bad act idiot direct anno...  \n",
       "49579  cathol taught parochi elementari school nun ta...  \n",
       "49580  go disagre previou comment side maltin one sec...  \n",
       "49581  one expect star trek movi high art fan expect ...  \n",
       "\n",
       "[49582 rows x 4 columns]"
      ]
     },
     "execution_count": 4,
     "metadata": {},
     "output_type": "execute_result"
    }
   ],
   "source": [
    "data"
   ]
  },
  {
   "cell_type": "code",
   "execution_count": 5,
   "metadata": {},
   "outputs": [],
   "source": [
    "# mapping the sentiment as 0 for neg and 1 for positive\n",
    "data['sentiment'] = data['sentiment'].map({'positive':1,'negative':0})"
   ]
  },
  {
   "cell_type": "code",
   "execution_count": null,
   "metadata": {},
   "outputs": [],
   "source": []
  },
  {
   "cell_type": "code",
   "execution_count": null,
   "metadata": {},
   "outputs": [],
   "source": []
  },
  {
   "cell_type": "code",
   "execution_count": null,
   "metadata": {},
   "outputs": [],
   "source": []
  },
  {
   "cell_type": "markdown",
   "metadata": {},
   "source": [
    "# Devide data to test and training data"
   ]
  },
  {
   "cell_type": "code",
   "execution_count": 6,
   "metadata": {},
   "outputs": [],
   "source": [
    "from sklearn.model_selection import train_test_split\n",
    "X_train, X_test, y_train, y_test = train_test_split(data['lemmatization'], data[\"sentiment\"], train_size = 0.75)\n"
   ]
  },
  {
   "cell_type": "markdown",
   "metadata": {},
   "source": [
    "# Prepare TF - IDF"
   ]
  },
  {
   "cell_type": "code",
   "execution_count": 7,
   "metadata": {},
   "outputs": [
    {
     "name": "stdout",
     "output_type": "stream",
     "text": [
      "n_samples: 37186, n_features: 46156\n",
      "n_samples: 12396, n_features: 46156\n"
     ]
    }
   ],
   "source": [
    "tf_vectorizer = TfidfVectorizer(min_df=2) # create Object of class TfidfVectorizer\n",
    "#, min_df=5, max_df=0.3\n",
    "X_train_tf = tf_vectorizer.fit_transform(X_train) # run method fit_transform on training set\n",
    "X_test_tf = tf_vectorizer.transform(X_test)\n",
    "print(\"n_samples: %d, n_features: %d\" % X_train_tf.shape)\n",
    "print(\"n_samples: %d, n_features: %d\" % X_test_tf.shape)"
   ]
  },
  {
   "cell_type": "markdown",
   "metadata": {},
   "source": [
    "# Prepare TF - IDF with limited number of words"
   ]
  },
  {
   "cell_type": "code",
   "execution_count": 96,
   "metadata": {},
   "outputs": [
    {
     "name": "stdout",
     "output_type": "stream",
     "text": [
      "n_samples: 37186, n_features: 28287\n",
      "n_samples: 12396, n_features: 28287\n"
     ]
    }
   ],
   "source": [
    "tf_vectorizer2 = TfidfVectorizer(min_df=5,  max_df=0.2 ) # create Object of class TfidfVectorizer\r\n",
    "#, min_df=5, max_df=0.3\r\n",
    "X_train_tf2 = tf_vectorizer2.fit_transform(X_train) # run method fit_transform on training set\r\n",
    "X_test_tf2 = tf_vectorizer2.transform(X_test)\r\n",
    " \r\n",
    "print(\"n_samples: %d, n_features: %d\" % X_train_tf2.shape)\r\n",
    "print(\"n_samples: %d, n_features: %d\" % X_test_tf2.shape)\r\n",
    "\r\n",
    " "
   ]
  },
  {
   "cell_type": "code",
   "execution_count": 58,
   "metadata": {},
   "outputs": [
    {
     "data": {
      "text/plain": [
       "<12396x28287 sparse matrix of type '<class 'numpy.float64'>'\n",
       "\twith 898223 stored elements in Compressed Sparse Row format>"
      ]
     },
     "execution_count": 58,
     "metadata": {},
     "output_type": "execute_result"
    }
   ],
   "source": [
    "X_test_tf2"
   ]
  },
  {
   "cell_type": "markdown",
   "metadata": {},
   "source": [
    "# Prepare Count Vectorizer"
   ]
  },
  {
   "cell_type": "code",
   "execution_count": 10,
   "metadata": {},
   "outputs": [
    {
     "name": "stdout",
     "output_type": "stream",
     "text": [
      "n_samples: 37186, n_features: 81271\n",
      "n_samples: 12396, n_features: 81271\n"
     ]
    }
   ],
   "source": [
    "count_vectorizer = CountVectorizer() # or term frequency\n",
    "X_train_cv = count_vectorizer.fit_transform(X_train)\n",
    "X_test_cv = count_vectorizer.transform(X_test)\n",
    "print(\"n_samples: %d, n_features: %d\" % X_train_cv.shape)\n",
    "print(\"n_samples: %d, n_features: %d\" % X_test_cv.shape)"
   ]
  },
  {
   "cell_type": "code",
   "execution_count": null,
   "metadata": {},
   "outputs": [],
   "source": []
  },
  {
   "cell_type": "markdown",
   "metadata": {},
   "source": [
    "#  Naives Bayes + TF-Idf"
   ]
  },
  {
   "cell_type": "code",
   "execution_count": 11,
   "metadata": {},
   "outputs": [],
   "source": [
    "naive_bayes_classifier = MultinomialNB() # create object naive_bayes_classifier\n",
    "naive_bayes_classifier.fit(X_train_tf, y_train) # run method fit from the class MultinomialNB\n",
    "y_pred = naive_bayes_classifier.predict(X_test_tf)\n",
    " \n",
    " \n",
    " "
   ]
  },
  {
   "cell_type": "code",
   "execution_count": 12,
   "metadata": {},
   "outputs": [],
   "source": [
    "#result Naive Bayes + TF-IDF"
   ]
  },
  {
   "cell_type": "code",
   "execution_count": 13,
   "metadata": {},
   "outputs": [
    {
     "name": "stdout",
     "output_type": "stream",
     "text": [
      "accuracy:   0.864\n",
      "              precision    recall  f1-score   support\n",
      "\n",
      "    Positive       0.86      0.88      0.87      6184\n",
      "    Negative       0.87      0.85      0.86      6212\n",
      "\n",
      "    accuracy                           0.86     12396\n",
      "   macro avg       0.86      0.86      0.86     12396\n",
      "weighted avg       0.86      0.86      0.86     12396\n",
      "\n",
      "confusion matrix:\n",
      "[[5411  773]\n",
      " [ 908 5304]]\n",
      "------------------------------\n"
     ]
    }
   ],
   "source": [
    "# compute the performance measures\n",
    "score1 = metrics.accuracy_score(y_test, y_pred)\n",
    "print(\"accuracy:   %0.3f\" % score1)\n",
    "\n",
    "print(metrics.classification_report(y_test, y_pred,\n",
    "                                            target_names=['Positive', 'Negative']))\n",
    "\n",
    "print(\"confusion matrix:\")\n",
    "cm = metrics.confusion_matrix(y_test, y_pred)\n",
    "print (cm)\n",
    "print('------------------------------')\n"
   ]
  },
  {
   "cell_type": "code",
   "execution_count": 14,
   "metadata": {},
   "outputs": [],
   "source": [
    "cm1=confusion_matrix(y_test, y_pred)"
   ]
  },
  {
   "cell_type": "code",
   "execution_count": null,
   "metadata": {},
   "outputs": [],
   "source": []
  },
  {
   "cell_type": "markdown",
   "metadata": {},
   "source": [
    "#  Naives Bayes + Count Vector"
   ]
  },
  {
   "cell_type": "code",
   "execution_count": 15,
   "metadata": {},
   "outputs": [],
   "source": [
    "naive_bayes_classifier = MultinomialNB() # create object naive_bayes_classifier\n",
    "naive_bayes_classifier.fit(X_train_cv, y_train) # run method fit from the class MultinomialNB\n",
    "y_pred = naive_bayes_classifier.predict(X_test_cv)\n",
    " \n",
    " \n",
    " "
   ]
  },
  {
   "cell_type": "code",
   "execution_count": 16,
   "metadata": {},
   "outputs": [],
   "source": [
    "#result Naive Bayes + Count Vect"
   ]
  },
  {
   "cell_type": "code",
   "execution_count": 17,
   "metadata": {},
   "outputs": [
    {
     "name": "stdout",
     "output_type": "stream",
     "text": [
      "accuracy:   0.860\n",
      "              precision    recall  f1-score   support\n",
      "\n",
      "    Positive       0.85      0.88      0.86      6184\n",
      "    Negative       0.88      0.84      0.86      6212\n",
      "\n",
      "    accuracy                           0.86     12396\n",
      "   macro avg       0.86      0.86      0.86     12396\n",
      "weighted avg       0.86      0.86      0.86     12396\n",
      "\n",
      "confusion matrix:\n",
      "[[5452  732]\n",
      " [ 998 5214]]\n",
      "------------------------------\n"
     ]
    }
   ],
   "source": [
    "\n",
    "# compute the performance measures\n",
    "score1 = metrics.accuracy_score(y_test, y_pred)\n",
    "print(\"accuracy:   %0.3f\" % score1)\n",
    "\n",
    "print(metrics.classification_report(y_test, y_pred,\n",
    "                                            target_names=['Positive', 'Negative']))\n",
    "\n",
    "print(\"confusion matrix:\")\n",
    "cm2 = metrics.confusion_matrix(y_test, y_pred)\n",
    "print (cm2)\n",
    "\n",
    "print('------------------------------')\n",
    "\n",
    " "
   ]
  },
  {
   "cell_type": "markdown",
   "metadata": {},
   "source": [
    "# Naives Bayes + TF-Idf limited "
   ]
  },
  {
   "cell_type": "code",
   "execution_count": 59,
   "metadata": {},
   "outputs": [],
   "source": [
    "naive_bayes_classifier2 = MultinomialNB() # create object naive_bayes_classifier\n",
    "naive_bayes_classifier2.fit(X_train_tf2, y_train) # run method fit from the class MultinomialNB\n",
    "y_pred = naive_bayes_classifier2.predict(X_test_tf2)\n",
    " \n",
    " \n",
    " "
   ]
  },
  {
   "cell_type": "code",
   "execution_count": null,
   "metadata": {},
   "outputs": [],
   "source": []
  },
  {
   "cell_type": "code",
   "execution_count": 60,
   "metadata": {},
   "outputs": [
    {
     "name": "stdout",
     "output_type": "stream",
     "text": [
      "accuracy:   0.860\n",
      "              precision    recall  f1-score   support\n",
      "\n",
      "    Positive       0.85      0.87      0.86      6184\n",
      "    Negative       0.87      0.85      0.86      6212\n",
      "\n",
      "    accuracy                           0.86     12396\n",
      "   macro avg       0.86      0.86      0.86     12396\n",
      "weighted avg       0.86      0.86      0.86     12396\n",
      "\n",
      "confusion matrix:\n",
      "[[5359  825]\n",
      " [ 912 5300]]\n",
      "------------------------------\n"
     ]
    }
   ],
   "source": [
    "# compute the performance measures\n",
    "score1 = metrics.accuracy_score(y_test, y_pred)\n",
    "print(\"accuracy:   %0.3f\" % score1)\n",
    "\n",
    "print(metrics.classification_report(y_test, y_pred,\n",
    "                                            target_names=['Positive', 'Negative']))\n",
    "\n",
    "print(\"confusion matrix:\")\n",
    "print(metrics.confusion_matrix(y_test, y_pred))\n",
    "\n",
    "print('------------------------------')\n"
   ]
  },
  {
   "cell_type": "markdown",
   "metadata": {},
   "source": [
    "# KNeighborsClassifier . - TF idf\n"
   ]
  },
  {
   "cell_type": "code",
   "execution_count": 20,
   "metadata": {},
   "outputs": [],
   "source": [
    "import matplotlib.pyplot as plt\n",
    "import numpy"
   ]
  },
  {
   "cell_type": "code",
   "execution_count": 21,
   "metadata": {},
   "outputs": [],
   "source": [
    "from sklearn.neighbors import KNeighborsClassifier\n",
    "\n",
    "#Train Model and Predict\n",
    "k = 8  #best Result\n",
    "neigh = KNeighborsClassifier(n_neighbors = k).fit(X_train_tf,y_train)\n",
    "\n",
    "\n",
    " "
   ]
  },
  {
   "cell_type": "code",
   "execution_count": 22,
   "metadata": {},
   "outputs": [
    {
     "name": "stdout",
     "output_type": "stream",
     "text": [
      "Accuracy of model at K=8 is 0.7671022910616327\n",
      "accuracy:   0.767\n",
      "              precision    recall  f1-score   support\n",
      "\n",
      "    Positive       0.77      0.75      0.76      6184\n",
      "    Negative       0.76      0.78      0.77      6212\n",
      "\n",
      "    accuracy                           0.77     12396\n",
      "   macro avg       0.77      0.77      0.77     12396\n",
      "weighted avg       0.77      0.77      0.77     12396\n",
      "\n",
      "confusion matrix:\n",
      "[[4665 1519]\n",
      " [1368 4844]]\n",
      "------------------------------\n"
     ]
    }
   ],
   "source": [
    "# predict the new document from the testing dataset\n",
    "from sklearn.metrics import plot_confusion_matrix    \n",
    "    \n",
    "y_pred = neigh.predict(X_test_tf)\n",
    "\n",
    "print(\"Accuracy of model at K=8 is\",metrics.accuracy_score(y_test, y_pred))\n",
    "    \n",
    "    \n",
    "# compute the performance measures\n",
    "score1 = metrics.accuracy_score(y_test, y_pred)\n",
    "print(\"accuracy:   %0.3f\" % score1)\n",
    "\n",
    "print(metrics.classification_report(y_test, y_pred,\n",
    "                                            target_names=['Positive', 'Negative']))\n",
    "\n",
    "print(\"confusion matrix:\")\n",
    "cm = metrics.confusion_matrix(y_test, y_pred)\n",
    "print(cm)\n",
    "\n",
    "print('------------------------------')\n",
    "\n",
    " \n",
    " \n",
    "    "
   ]
  },
  {
   "cell_type": "markdown",
   "metadata": {},
   "source": [
    "# K means 1-10 TF- IDF "
   ]
  },
  {
   "cell_type": "code",
   "execution_count": 23,
   "metadata": {},
   "outputs": [],
   "source": [
    "# K von 1 bis 10 "
   ]
  },
  {
   "cell_type": "code",
   "execution_count": 24,
   "metadata": {},
   "outputs": [],
   "source": [
    "error_rate = []\n",
    "minR = 1 \n",
    "maxR = 10\n",
    "for i in range(minR, maxR):\n",
    " knn = KNeighborsClassifier(n_neighbors=i)\n",
    " knn.fit(X_train_tf,y_train)\n",
    " pred_i = knn.predict(X_test_tf)\n",
    " error_rate.append(np.mean(pred_i != y_test))\n"
   ]
  },
  {
   "cell_type": "code",
   "execution_count": 25,
   "metadata": {},
   "outputs": [
    {
     "name": "stdout",
     "output_type": "stream",
     "text": [
      "Minimum error:- 0.23289770893836723 at K = 8\n"
     ]
    },
    {
     "data": {
      "image/png": "[encoded data removed]",
      "text/plain": [
       "<Figure size 720x432 with 1 Axes>"
      ]
     },
     "metadata": {
      "needs_background": "light"
     },
     "output_type": "display_data"
    }
   ],
   "source": [
    "\n",
    "plt.figure(figsize=(10,6))\n",
    "plt.plot(np.array(range(minR, maxR)), np.array(error_rate),color='blue', linestyle='dashed', \n",
    "         marker='o',markerfacecolor='red', markersize=10)\n",
    "plt.title('Error Rate vs. K Value')\n",
    "plt.xlabel('K')\n",
    "plt.ylabel('Error Rate')\n",
    "print(\"Minimum error:-\",numpy.min(error_rate),\"at K =\",error_rate.index(numpy.min(error_rate))+1)\n"
   ]
  },
  {
   "cell_type": "code",
   "execution_count": 26,
   "metadata": {},
   "outputs": [
    {
     "data": {
      "text/plain": [
       "<AxesSubplot:>"
      ]
     },
     "execution_count": 26,
     "metadata": {},
     "output_type": "execute_result"
    },
    {
     "data": {
      "image/png": "[encoded data removed]",
      "text/plain": [
       "<Figure size 432x288 with 2 Axes>"
      ]
     },
     "metadata": {
      "needs_background": "light"
     },
     "output_type": "display_data"
    }
   ],
   "source": [
    "\n",
    "import seaborn as sns   \n",
    "x_axis_labels = [\"Positive\", \"Negative\"]\n",
    "y_axis_labels = [\"Positive\", \"Negative\"]\n",
    "sns.heatmap(cm, xticklabels=x_axis_labels, yticklabels=y_axis_labels, annot=cm)\n"
   ]
  },
  {
   "cell_type": "code",
   "execution_count": 27,
   "metadata": {},
   "outputs": [],
   "source": [
    "# K means 1-10 TF- IDF limited"
   ]
  },
  {
   "cell_type": "code",
   "execution_count": 66,
   "metadata": {},
   "outputs": [],
   "source": [
    "error_rate = []\n",
    "minR = 1 \n",
    "maxR = 10\n",
    "for i in range(minR, maxR):\n",
    " knn = KNeighborsClassifier(n_neighbors=i)\n",
    " knn.fit(X_train_tf2,y_train)\n",
    " pred_i = knn.predict(X_test_tf2)\n",
    " error_rate.append(np.mean(pred_i != y_test))\n"
   ]
  },
  {
   "cell_type": "code",
   "execution_count": 68,
   "metadata": {},
   "outputs": [
    {
     "name": "stdout",
     "output_type": "stream",
     "text": [
      "Minimum error:- 0.23668925459825751 at K = 6\n"
     ]
    },
    {
     "data": {
      "image/png": "[encoded data removed]",
      "text/plain": [
       "<Figure size 720x432 with 1 Axes>"
      ]
     },
     "metadata": {
      "needs_background": "light"
     },
     "output_type": "display_data"
    }
   ],
   "source": [
    "\n",
    "plt.figure(figsize=(10,6))\n",
    "plt.plot(np.array(range(minR, maxR)), np.array(error_rate),color='blue', linestyle='dashed', \n",
    "         marker='o',markerfacecolor='red', markersize=10)\n",
    "plt.title('Error Rate vs. K Value')\n",
    "plt.xlabel('K')\n",
    "plt.ylabel('Error Rate')\n",
    "print(\"Minimum error:-\",numpy.min(error_rate),\"at K =\",error_rate.index(numpy.min(error_rate))+1)\n"
   ]
  },
  {
   "cell_type": "code",
   "execution_count": 30,
   "metadata": {},
   "outputs": [],
   "source": [
    "# K means 1-10 CV "
   ]
  },
  {
   "cell_type": "code",
   "execution_count": 63,
   "metadata": {},
   "outputs": [],
   "source": [
    "error_rate = []\n",
    "minR = 1 \n",
    "maxR = 10\n",
    "for i in range(minR, maxR):\n",
    " knn = KNeighborsClassifier(n_neighbors=i)\n",
    " knn.fit(X_train_cv,y_train)\n",
    " pred_i = knn.predict(X_test_cv)\n",
    " error_rate.append(np.mean(pred_i != y_test))\n"
   ]
  },
  {
   "cell_type": "code",
   "execution_count": 64,
   "metadata": {},
   "outputs": [
    {
     "name": "stdout",
     "output_type": "stream",
     "text": [
      "Minimum error:- 0.34551468215553405 at K = 9\n"
     ]
    },
    {
     "data": {
      "image/png": "[encoded data removed]",
      "text/plain": [
       "<Figure size 720x432 with 1 Axes>"
      ]
     },
     "metadata": {
      "needs_background": "light"
     },
     "output_type": "display_data"
    }
   ],
   "source": [
    "\r\n",
    "plt.figure(figsize=(10,6))\r\n",
    "plt.plot(np.array(range(minR, maxR)), np.array(error_rate),color='blue', linestyle='dashed', \r\n",
    "         marker='o',markerfacecolor='red', markersize=10)\r\n",
    "plt.title('Error Rate vs. K Value')\r\n",
    "plt.xlabel('K')\r\n",
    "plt.ylabel('Error Rate')\r\n",
    "print(\"Minimum error:-\",numpy.min(error_rate),\"at K =\",error_rate.index(numpy.min(error_rate))+1)\r\n"
   ]
  },
  {
   "cell_type": "markdown",
   "metadata": {},
   "source": [
    "# K means from 10 till 100 "
   ]
  },
  {
   "cell_type": "code",
   "execution_count": 34,
   "metadata": {},
   "outputs": [],
   "source": [
    "error_rate = []\n",
    "minR = 10 \n",
    "maxR = 100\n",
    "for i in range(10, 100, 10):\n",
    " knn = KNeighborsClassifier(n_neighbors=i)\n",
    " knn.fit(X_train_tf,y_train)\n",
    " pred_i = knn.predict(X_test_tf)\n",
    " error_rate.append(np.mean(pred_i != y_test))\n"
   ]
  },
  {
   "cell_type": "code",
   "execution_count": 35,
   "metadata": {},
   "outputs": [
    {
     "name": "stdout",
     "output_type": "stream",
     "text": [
      "Minimum error:- 0.21200387221684414 at K = 7\n"
     ]
    },
    {
     "data": {
      "image/png": "[encoded data removed]",
      "text/plain": [
       "<Figure size 720x432 with 1 Axes>"
      ]
     },
     "metadata": {
      "needs_background": "light"
     },
     "output_type": "display_data"
    }
   ],
   "source": [
    "\r\n",
    "plt.figure(figsize=(10,6))\r\n",
    "plt.plot(np.array(range(minR, maxR, 10)), np.array(error_rate),color='blue', linestyle='dashed', \r\n",
    "         marker='o',markerfacecolor='red', markersize=10)\r\n",
    "plt.title('Error Rate vs. K Value')\r\n",
    "plt.xlabel('K')\r\n",
    "plt.ylabel('Error Rate')\r\n",
    "print(\"Minimum error:-\",numpy.min(error_rate),\"at K =\",error_rate.index(numpy.min(error_rate))+1)\r\n"
   ]
  },
  {
   "cell_type": "markdown",
   "metadata": {},
   "source": [
    "# K Means from 100 to 1000"
   ]
  },
  {
   "cell_type": "code",
   "execution_count": 36,
   "metadata": {},
   "outputs": [],
   "source": [
    "error_rate = []\n",
    "minR = 100 \n",
    "maxR = 10000\n",
    "for i in range(100, 10000, 1000):\n",
    " knn = KNeighborsClassifier(n_neighbors=i)\n",
    " knn.fit(X_train_tf,y_train)\n",
    " pred_i = knn.predict(X_test_tf)\n",
    " error_rate.append(np.mean(pred_i != y_test))\n"
   ]
  },
  {
   "cell_type": "code",
   "execution_count": 37,
   "metadata": {},
   "outputs": [
    {
     "name": "stdout",
     "output_type": "stream",
     "text": [
      "Minimum error:- 0.17408841561794128 at K = 3\n"
     ]
    },
    {
     "data": {
      "image/png": "[encoded data removed]",
      "text/plain": [
       "<Figure size 720x432 with 1 Axes>"
      ]
     },
     "metadata": {
      "needs_background": "light"
     },
     "output_type": "display_data"
    }
   ],
   "source": [
    "\r\n",
    "plt.figure(figsize=(10,6))\r\n",
    "plt.plot(np.array(range(minR, maxR, 1000)), np.array(error_rate),color='blue', linestyle='dashed', \r\n",
    "         marker='o',markerfacecolor='red', markersize=10)\r\n",
    "plt.title('Error Rate vs. K Value')\r\n",
    "plt.xlabel('K')\r\n",
    "plt.ylabel('Error Rate')\r\n",
    "print(\"Minimum error:-\",numpy.min(error_rate),\"at K =\",error_rate.index(numpy.min(error_rate))+1)\r\n"
   ]
  },
  {
   "cell_type": "code",
   "execution_count": null,
   "metadata": {},
   "outputs": [],
   "source": [
    "# K Means from 3000 to 30000"
   ]
  },
  {
   "cell_type": "code",
   "execution_count": 38,
   "metadata": {},
   "outputs": [],
   "source": [
    "error_rate = []\n",
    "minR = 3000 \n",
    "maxR = 30000\n",
    "for i in range(minR, maxR, 3000):\n",
    " knn = KNeighborsClassifier(n_neighbors=i)\n",
    " knn.fit(X_train_tf,y_train)\n",
    " pred_i = knn.predict(X_test_tf)\n",
    " error_rate.append(np.mean(pred_i != y_test))\n"
   ]
  },
  {
   "cell_type": "code",
   "execution_count": 103,
   "metadata": {},
   "outputs": [
    {
     "ename": "ValueError",
     "evalue": "x and y must have same first dimension, but have shapes (1,) and (9,)",
     "output_type": "error",
     "traceback": [
      "\u001b[1;31m---------------------------------------------------------------------------\u001b[0m",
      "\u001b[1;31mValueError\u001b[0m                                Traceback (most recent call last)",
      "\u001b[1;32m<ipython-input-103-ca7ab0ce706c>\u001b[0m in \u001b[0;36m<module>\u001b[1;34m\u001b[0m\n\u001b[0;32m      1\u001b[0m \u001b[0mplt\u001b[0m\u001b[1;33m.\u001b[0m\u001b[0mfigure\u001b[0m\u001b[1;33m(\u001b[0m\u001b[0mfigsize\u001b[0m\u001b[1;33m=\u001b[0m\u001b[1;33m(\u001b[0m\u001b[1;36m10\u001b[0m\u001b[1;33m,\u001b[0m\u001b[1;36m6\u001b[0m\u001b[1;33m)\u001b[0m\u001b[1;33m)\u001b[0m\u001b[1;33m\u001b[0m\u001b[1;33m\u001b[0m\u001b[0m\n\u001b[1;32m----> 2\u001b[1;33m plt.plot(np.array(range(minR, maxR, 1000)), np.array(error_rate),color='blue', linestyle='dashed', \n\u001b[0m\u001b[0;32m      3\u001b[0m          marker='o',markerfacecolor='red', markersize=10)\n\u001b[0;32m      4\u001b[0m \u001b[0mplt\u001b[0m\u001b[1;33m.\u001b[0m\u001b[0mtitle\u001b[0m\u001b[1;33m(\u001b[0m\u001b[1;34m'Error Rate vs. K Value'\u001b[0m\u001b[1;33m)\u001b[0m\u001b[1;33m\u001b[0m\u001b[1;33m\u001b[0m\u001b[0m\n\u001b[0;32m      5\u001b[0m \u001b[0mplt\u001b[0m\u001b[1;33m.\u001b[0m\u001b[0mxlabel\u001b[0m\u001b[1;33m(\u001b[0m\u001b[1;34m'K'\u001b[0m\u001b[1;33m)\u001b[0m\u001b[1;33m\u001b[0m\u001b[1;33m\u001b[0m\u001b[0m\n",
      "\u001b[1;32m~\\miniconda3\\lib\\site-packages\\matplotlib\\pyplot.py\u001b[0m in \u001b[0;36mplot\u001b[1;34m(scalex, scaley, data, *args, **kwargs)\u001b[0m\n\u001b[0;32m   2838\u001b[0m \u001b[1;33m@\u001b[0m\u001b[0m_copy_docstring_and_deprecators\u001b[0m\u001b[1;33m(\u001b[0m\u001b[0mAxes\u001b[0m\u001b[1;33m.\u001b[0m\u001b[0mplot\u001b[0m\u001b[1;33m)\u001b[0m\u001b[1;33m\u001b[0m\u001b[1;33m\u001b[0m\u001b[0m\n\u001b[0;32m   2839\u001b[0m \u001b[1;32mdef\u001b[0m \u001b[0mplot\u001b[0m\u001b[1;33m(\u001b[0m\u001b[1;33m*\u001b[0m\u001b[0margs\u001b[0m\u001b[1;33m,\u001b[0m \u001b[0mscalex\u001b[0m\u001b[1;33m=\u001b[0m\u001b[1;32mTrue\u001b[0m\u001b[1;33m,\u001b[0m \u001b[0mscaley\u001b[0m\u001b[1;33m=\u001b[0m\u001b[1;32mTrue\u001b[0m\u001b[1;33m,\u001b[0m \u001b[0mdata\u001b[0m\u001b[1;33m=\u001b[0m\u001b[1;32mNone\u001b[0m\u001b[1;33m,\u001b[0m \u001b[1;33m**\u001b[0m\u001b[0mkwargs\u001b[0m\u001b[1;33m)\u001b[0m\u001b[1;33m:\u001b[0m\u001b[1;33m\u001b[0m\u001b[1;33m\u001b[0m\u001b[0m\n\u001b[1;32m-> 2840\u001b[1;33m     return gca().plot(\n\u001b[0m\u001b[0;32m   2841\u001b[0m         \u001b[1;33m*\u001b[0m\u001b[0margs\u001b[0m\u001b[1;33m,\u001b[0m \u001b[0mscalex\u001b[0m\u001b[1;33m=\u001b[0m\u001b[0mscalex\u001b[0m\u001b[1;33m,\u001b[0m \u001b[0mscaley\u001b[0m\u001b[1;33m=\u001b[0m\u001b[0mscaley\u001b[0m\u001b[1;33m,\u001b[0m\u001b[1;33m\u001b[0m\u001b[1;33m\u001b[0m\u001b[0m\n\u001b[0;32m   2842\u001b[0m         **({\"data\": data} if data is not None else {}), **kwargs)\n",
      "\u001b[1;32m~\\miniconda3\\lib\\site-packages\\matplotlib\\axes\\_axes.py\u001b[0m in \u001b[0;36mplot\u001b[1;34m(self, scalex, scaley, data, *args, **kwargs)\u001b[0m\n\u001b[0;32m   1741\u001b[0m         \"\"\"\n\u001b[0;32m   1742\u001b[0m         \u001b[0mkwargs\u001b[0m \u001b[1;33m=\u001b[0m \u001b[0mcbook\u001b[0m\u001b[1;33m.\u001b[0m\u001b[0mnormalize_kwargs\u001b[0m\u001b[1;33m(\u001b[0m\u001b[0mkwargs\u001b[0m\u001b[1;33m,\u001b[0m \u001b[0mmlines\u001b[0m\u001b[1;33m.\u001b[0m\u001b[0mLine2D\u001b[0m\u001b[1;33m)\u001b[0m\u001b[1;33m\u001b[0m\u001b[1;33m\u001b[0m\u001b[0m\n\u001b[1;32m-> 1743\u001b[1;33m         \u001b[0mlines\u001b[0m \u001b[1;33m=\u001b[0m \u001b[1;33m[\u001b[0m\u001b[1;33m*\u001b[0m\u001b[0mself\u001b[0m\u001b[1;33m.\u001b[0m\u001b[0m_get_lines\u001b[0m\u001b[1;33m(\u001b[0m\u001b[1;33m*\u001b[0m\u001b[0margs\u001b[0m\u001b[1;33m,\u001b[0m \u001b[0mdata\u001b[0m\u001b[1;33m=\u001b[0m\u001b[0mdata\u001b[0m\u001b[1;33m,\u001b[0m \u001b[1;33m**\u001b[0m\u001b[0mkwargs\u001b[0m\u001b[1;33m)\u001b[0m\u001b[1;33m]\u001b[0m\u001b[1;33m\u001b[0m\u001b[1;33m\u001b[0m\u001b[0m\n\u001b[0m\u001b[0;32m   1744\u001b[0m         \u001b[1;32mfor\u001b[0m \u001b[0mline\u001b[0m \u001b[1;32min\u001b[0m \u001b[0mlines\u001b[0m\u001b[1;33m:\u001b[0m\u001b[1;33m\u001b[0m\u001b[1;33m\u001b[0m\u001b[0m\n\u001b[0;32m   1745\u001b[0m             \u001b[0mself\u001b[0m\u001b[1;33m.\u001b[0m\u001b[0madd_line\u001b[0m\u001b[1;33m(\u001b[0m\u001b[0mline\u001b[0m\u001b[1;33m)\u001b[0m\u001b[1;33m\u001b[0m\u001b[1;33m\u001b[0m\u001b[0m\n",
      "\u001b[1;32m~\\miniconda3\\lib\\site-packages\\matplotlib\\axes\\_base.py\u001b[0m in \u001b[0;36m__call__\u001b[1;34m(self, data, *args, **kwargs)\u001b[0m\n\u001b[0;32m    271\u001b[0m                 \u001b[0mthis\u001b[0m \u001b[1;33m+=\u001b[0m \u001b[0margs\u001b[0m\u001b[1;33m[\u001b[0m\u001b[1;36m0\u001b[0m\u001b[1;33m]\u001b[0m\u001b[1;33m,\u001b[0m\u001b[1;33m\u001b[0m\u001b[1;33m\u001b[0m\u001b[0m\n\u001b[0;32m    272\u001b[0m                 \u001b[0margs\u001b[0m \u001b[1;33m=\u001b[0m \u001b[0margs\u001b[0m\u001b[1;33m[\u001b[0m\u001b[1;36m1\u001b[0m\u001b[1;33m:\u001b[0m\u001b[1;33m]\u001b[0m\u001b[1;33m\u001b[0m\u001b[1;33m\u001b[0m\u001b[0m\n\u001b[1;32m--> 273\u001b[1;33m             \u001b[1;32myield\u001b[0m \u001b[1;32mfrom\u001b[0m \u001b[0mself\u001b[0m\u001b[1;33m.\u001b[0m\u001b[0m_plot_args\u001b[0m\u001b[1;33m(\u001b[0m\u001b[0mthis\u001b[0m\u001b[1;33m,\u001b[0m \u001b[0mkwargs\u001b[0m\u001b[1;33m)\u001b[0m\u001b[1;33m\u001b[0m\u001b[1;33m\u001b[0m\u001b[0m\n\u001b[0m\u001b[0;32m    274\u001b[0m \u001b[1;33m\u001b[0m\u001b[0m\n\u001b[0;32m    275\u001b[0m     \u001b[1;32mdef\u001b[0m \u001b[0mget_next_color\u001b[0m\u001b[1;33m(\u001b[0m\u001b[0mself\u001b[0m\u001b[1;33m)\u001b[0m\u001b[1;33m:\u001b[0m\u001b[1;33m\u001b[0m\u001b[1;33m\u001b[0m\u001b[0m\n",
      "\u001b[1;32m~\\miniconda3\\lib\\site-packages\\matplotlib\\axes\\_base.py\u001b[0m in \u001b[0;36m_plot_args\u001b[1;34m(self, tup, kwargs)\u001b[0m\n\u001b[0;32m    397\u001b[0m \u001b[1;33m\u001b[0m\u001b[0m\n\u001b[0;32m    398\u001b[0m         \u001b[1;32mif\u001b[0m \u001b[0mx\u001b[0m\u001b[1;33m.\u001b[0m\u001b[0mshape\u001b[0m\u001b[1;33m[\u001b[0m\u001b[1;36m0\u001b[0m\u001b[1;33m]\u001b[0m \u001b[1;33m!=\u001b[0m \u001b[0my\u001b[0m\u001b[1;33m.\u001b[0m\u001b[0mshape\u001b[0m\u001b[1;33m[\u001b[0m\u001b[1;36m0\u001b[0m\u001b[1;33m]\u001b[0m\u001b[1;33m:\u001b[0m\u001b[1;33m\u001b[0m\u001b[1;33m\u001b[0m\u001b[0m\n\u001b[1;32m--> 399\u001b[1;33m             raise ValueError(f\"x and y must have same first dimension, but \"\n\u001b[0m\u001b[0;32m    400\u001b[0m                              f\"have shapes {x.shape} and {y.shape}\")\n\u001b[0;32m    401\u001b[0m         \u001b[1;32mif\u001b[0m \u001b[0mx\u001b[0m\u001b[1;33m.\u001b[0m\u001b[0mndim\u001b[0m \u001b[1;33m>\u001b[0m \u001b[1;36m2\u001b[0m \u001b[1;32mor\u001b[0m \u001b[0my\u001b[0m\u001b[1;33m.\u001b[0m\u001b[0mndim\u001b[0m \u001b[1;33m>\u001b[0m \u001b[1;36m2\u001b[0m\u001b[1;33m:\u001b[0m\u001b[1;33m\u001b[0m\u001b[1;33m\u001b[0m\u001b[0m\n",
      "\u001b[1;31mValueError\u001b[0m: x and y must have same first dimension, but have shapes (1,) and (9,)"
     ]
    },
    {
     "data": {
      "image/png": "[encoded data removed]",
      "text/plain": [
       "<Figure size 720x432 with 1 Axes>"
      ]
     },
     "metadata": {
      "needs_background": "light"
     },
     "output_type": "display_data"
    }
   ],
   "source": [
    "\r\n",
    "plt.figure(figsize=(10,6))\r\n",
    "plt.plot(np.array(range(minR, maxR, 1000)), np.array(error_rate),color='blue', linestyle='dashed', \r\n",
    "         marker='o',markerfacecolor='red', markersize=10)\r\n",
    "plt.title('Error Rate vs. K Value')\r\n",
    "plt.xlabel('K')\r\n",
    "plt.ylabel('Error Rate')\r\n",
    "print(\"Minimum error:-\",numpy.min(error_rate),\"at K =\",error_rate.index(numpy.min(error_rate))+1)\r\n"
   ]
  },
  {
   "cell_type": "markdown",
   "metadata": {},
   "source": [
    "# Linear Support Vector Classification."
   ]
  },
  {
   "cell_type": "code",
   "execution_count": null,
   "metadata": {},
   "outputs": [],
   "source": [
    "# LinearSVC + Tf IDF"
   ]
  },
  {
   "cell_type": "code",
   "execution_count": 41,
   "metadata": {},
   "outputs": [],
   "source": [
    "from sklearn.svm import LinearSVC\n",
    "# predict the new document from the testing dataset\n",
    "from sklearn.metrics import plot_confusion_matrix    \n",
    "    \n",
    "SVclassifier = LinearSVC()\n",
    "SVclassifier.fit(X_train_tf, y_train)\n",
    "y_pred = SVclassifier.predict(X_test_tf)"
   ]
  },
  {
   "cell_type": "code",
   "execution_count": null,
   "metadata": {},
   "outputs": [],
   "source": [
    "#result LinearSVC + Tf IDF"
   ]
  },
  {
   "cell_type": "code",
   "execution_count": 42,
   "metadata": {},
   "outputs": [
    {
     "name": "stdout",
     "output_type": "stream",
     "text": [
      "accuracy:   0.883\n",
      "              precision    recall  f1-score   support\n",
      "\n",
      "    Positive       0.89      0.87      0.88      6184\n",
      "    Negative       0.88      0.89      0.88      6212\n",
      "\n",
      "    accuracy                           0.88     12396\n",
      "   macro avg       0.88      0.88      0.88     12396\n",
      "weighted avg       0.88      0.88      0.88     12396\n",
      "\n",
      "confusion matrix:\n",
      "[[4665 1519]\n",
      " [1368 4844]]\n",
      "------------------------------\n"
     ]
    }
   ],
   "source": [
    "# compute the performance measures\n",
    "score1 = metrics.accuracy_score(y_test, y_pred)\n",
    "print(\"accuracy:   %0.3f\" % score1)\n",
    "\n",
    "print(metrics.classification_report(y_test, y_pred,\n",
    "                                            target_names=['Positive', 'Negative']))\n",
    "\n",
    "print(\"confusion matrix:\")\n",
    "cm2 = metrics.confusion_matrix(y_test, y_pred)\n",
    "print(cm)\n",
    "\n",
    "print('------------------------------')\n",
    "\n",
    "#import seaborn as sns   \n",
    "#sns.heatmap(cm, annot=True)"
   ]
  },
  {
   "cell_type": "code",
   "execution_count": null,
   "metadata": {},
   "outputs": [],
   "source": [
    "#LinearSVC + Tf IDF limited"
   ]
  },
  {
   "cell_type": "code",
   "execution_count": 43,
   "metadata": {},
   "outputs": [],
   "source": [
    "   \n",
    "SVclassifier = LinearSVC()\n",
    "SVclassifier.fit(X_train_tf2, y_train)\n",
    "y_pred = SVclassifier.predict(X_test_tf2)"
   ]
  },
  {
   "cell_type": "code",
   "execution_count": null,
   "metadata": {},
   "outputs": [],
   "source": [
    "#result LinearSVC + Tf IDF limited"
   ]
  },
  {
   "cell_type": "code",
   "execution_count": 44,
   "metadata": {},
   "outputs": [
    {
     "name": "stdout",
     "output_type": "stream",
     "text": [
      "accuracy:   0.882\n",
      "              precision    recall  f1-score   support\n",
      "\n",
      "    Positive       0.89      0.87      0.88      6184\n",
      "    Negative       0.87      0.89      0.88      6212\n",
      "\n",
      "    accuracy                           0.88     12396\n",
      "   macro avg       0.88      0.88      0.88     12396\n",
      "weighted avg       0.88      0.88      0.88     12396\n",
      "\n",
      "confusion matrix:\n",
      "[[5392  792]\n",
      " [ 670 5542]]\n",
      "------------------------------\n"
     ]
    },
    {
     "data": {
      "text/plain": [
       "<AxesSubplot:>"
      ]
     },
     "execution_count": 44,
     "metadata": {},
     "output_type": "execute_result"
    },
    {
     "data": {
      "image/png": "[encoded data removed]",
      "text/plain": [
       "<Figure size 432x288 with 2 Axes>"
      ]
     },
     "metadata": {
      "needs_background": "light"
     },
     "output_type": "display_data"
    }
   ],
   "source": [
    "# compute the performance measures\n",
    "score1 = metrics.accuracy_score(y_test, y_pred)\n",
    "print(\"accuracy:   %0.3f\" % score1)\n",
    "\n",
    "print(metrics.classification_report(y_test, y_pred,\n",
    "                                            target_names=['Positive', 'Negative']))\n",
    "\n",
    "print(\"confusion matrix:\")\n",
    "cm = metrics.confusion_matrix(y_test, y_pred)\n",
    "print(cm)\n",
    "\n",
    "print('------------------------------')\n",
    "\n",
    "import seaborn as sns   \n",
    "#sns.heatmap(cm, cmap=\"RdYlGn\", annot=True)\n",
    "x_axis_labels = [\"Positive\", \"Negative\"]\n",
    "y_axis_labels = [\"Positive\", \"Negative\"]\n",
    "sns.heatmap(cm, xticklabels=x_axis_labels, yticklabels=y_axis_labels, annot=cm)"
   ]
  },
  {
   "cell_type": "markdown",
   "metadata": {},
   "source": [
    "# For presi\n"
   ]
  },
  {
   "cell_type": "code",
   "execution_count": 45,
   "metadata": {},
   "outputs": [
    {
     "data": {
      "text/plain": [
       "Text(0.5, 1.0, 'With SVCLinear Td-idf ')"
      ]
     },
     "execution_count": 45,
     "metadata": {},
     "output_type": "execute_result"
    },
    {
     "data": {
      "image/png": "[encoded data removed]",
      "text/plain": [
       "<Figure size 1080x360 with 4 Axes>"
      ]
     },
     "metadata": {
      "needs_background": "light"
     },
     "output_type": "display_data"
    }
   ],
   "source": [
    "fig, axis = plt.subplots(1, 2, figsize=(15, 5))\r\n",
    "x_axis_labels = [\"Positive\", \"Negative\"]\r\n",
    "y_axis_labels = [\"Positive\", \"Negative\"]\r\n",
    "\r\n",
    "\r\n",
    "C1 = cm1.astype('float') / cm1.sum(axis=1)[:, np.newaxis]\r\n",
    "C2 = cm2.astype('float') / cm2.sum(axis=1)[:, np.newaxis]\r\n",
    "\r\n",
    "sns.heatmap(ax = axis[0],data= cm1,annot=C1, xticklabels=x_axis_labels, yticklabels=y_axis_labels )\r\n",
    "axis[0].set_title(\"With Naive Bayes Tf- IDF\")\r\n",
    "\r\n",
    "sns.heatmap(ax = axis[1],data=cm2,annot=C2,  xticklabels=x_axis_labels, yticklabels=y_axis_labels)\r\n",
    "axis[1].set_title(\"With SVCLinear Td-idf \")\r\n",
    "\r\n",
    "\r\n"
   ]
  },
  {
   "cell_type": "code",
   "execution_count": 47,
   "metadata": {},
   "outputs": [
    {
     "data": {
      "text/plain": [
       "array([[0.875     , 0.125     ],\n",
       "       [0.14616871, 0.85383129]])"
      ]
     },
     "execution_count": 47,
     "metadata": {},
     "output_type": "execute_result"
    }
   ],
   "source": [
    "C1"
   ]
  },
  {
   "cell_type": "code",
   "execution_count": null,
   "metadata": {},
   "outputs": [],
   "source": []
  },
  {
   "cell_type": "code",
   "execution_count": null,
   "metadata": {},
   "outputs": [],
   "source": []
  },
  {
   "cell_type": "code",
   "execution_count": null,
   "metadata": {},
   "outputs": [],
   "source": []
  },
  {
   "cell_type": "code",
   "execution_count": null,
   "metadata": {},
   "outputs": [],
   "source": [
    "# LinearSVC + Count Vect"
   ]
  },
  {
   "cell_type": "code",
   "execution_count": 46,
   "metadata": {},
   "outputs": [
    {
     "name": "stderr",
     "output_type": "stream",
     "text": [
      "C:\\Users\\CGosten\\miniconda3\\lib\\site-packages\\sklearn\\svm\\_base.py:985: ConvergenceWarning: Liblinear failed to converge, increase the number of iterations.\n",
      "  warnings.warn(\"Liblinear failed to converge, increase \"\n"
     ]
    }
   ],
   "source": [
    "SVclassifier = LinearSVC()\r\n",
    "SVclassifier.fit(X_train_cv, y_train)\r\n",
    "y_pred = SVclassifier.predict(X_test_cv)"
   ]
  },
  {
   "cell_type": "code",
   "execution_count": null,
   "metadata": {},
   "outputs": [],
   "source": [
    "#result LinearSVC + CV"
   ]
  },
  {
   "cell_type": "code",
   "execution_count": 50,
   "metadata": {},
   "outputs": [
    {
     "name": "stdout",
     "output_type": "stream",
     "text": [
      "accuracy:   0.852\n",
      "              precision    recall  f1-score   support\n",
      "\n",
      "    Positive       0.85      0.85      0.85      6184\n",
      "    Negative       0.85      0.86      0.85      6212\n",
      "\n",
      "    accuracy                           0.85     12396\n",
      "   macro avg       0.85      0.85      0.85     12396\n",
      "weighted avg       0.85      0.85      0.85     12396\n",
      "\n",
      "confusion matrix:\n",
      "[[5247  937]\n",
      " [ 896 5316]]\n",
      "------------------------------\n"
     ]
    }
   ],
   "source": [
    "# compute the performance measures\n",
    "score1 = metrics.accuracy_score(y_test, y_pred)\n",
    "print(\"accuracy:   %0.3f\" % score1)\n",
    "\n",
    "print(metrics.classification_report(y_test, y_pred,\n",
    "                                            target_names=['Positive', 'Negative']))\n",
    "\n",
    "print(\"confusion matrix:\")\n",
    "cm = metrics.confusion_matrix(y_test, y_pred)\n",
    "print(cm)\n",
    "\n",
    "print('------------------------------')\n",
    " "
   ]
  },
  {
   "cell_type": "markdown",
   "metadata": {},
   "source": [
    "#  SVM with the Radial Basis Function"
   ]
  },
  {
   "cell_type": "code",
   "execution_count": 49,
   "metadata": {},
   "outputs": [],
   "source": [
    "from sklearn.svm import SVC\n",
    "from sklearn import svm\n",
    "rbf_svc = svm.SVC(kernel='rbf')"
   ]
  },
  {
   "cell_type": "code",
   "execution_count": 51,
   "metadata": {},
   "outputs": [],
   "source": [
    "rbf_svc.fit(X_train_tf, y_train)\n",
    "y_pred = rbf_svc.predict(X_test_tf)"
   ]
  },
  {
   "cell_type": "code",
   "execution_count": 52,
   "metadata": {},
   "outputs": [
    {
     "name": "stdout",
     "output_type": "stream",
     "text": [
      "accuracy:   0.890\n",
      "              precision    recall  f1-score   support\n",
      "\n",
      "    Positive       0.90      0.87      0.89      6184\n",
      "    Negative       0.88      0.91      0.89      6212\n",
      "\n",
      "    accuracy                           0.89     12396\n",
      "   macro avg       0.89      0.89      0.89     12396\n",
      "weighted avg       0.89      0.89      0.89     12396\n",
      "\n",
      "confusion matrix:\n",
      "[[5406  778]\n",
      " [ 583 5629]]\n",
      "------------------------------\n"
     ]
    },
    {
     "data": {
      "text/plain": [
       "<AxesSubplot:>"
      ]
     },
     "execution_count": 52,
     "metadata": {},
     "output_type": "execute_result"
    },
    {
     "data": {
      "image/png": "[encoded data removed]",
      "text/plain": [
       "<Figure size 432x288 with 2 Axes>"
      ]
     },
     "metadata": {
      "needs_background": "light"
     },
     "output_type": "display_data"
    }
   ],
   "source": [
    "# compute the performance measures\n",
    "score1 = metrics.accuracy_score(y_test, y_pred)\n",
    "print(\"accuracy:   %0.3f\" % score1)\n",
    "\n",
    "print(metrics.classification_report(y_test, y_pred,\n",
    "                                            target_names=['Positive', 'Negative']))\n",
    "\n",
    "print(\"confusion matrix:\")\n",
    "cm = metrics.confusion_matrix(y_test, y_pred)\n",
    "print(cm)\n",
    "\n",
    "print('------------------------------')\n",
    "\n",
    "import seaborn as sns   \n",
    "#sns.heatmap(cm, cmap=\"RdYlGn\", annot=True)\n",
    "x_axis_labels = [\"Positive\", \"Negative\"]\n",
    "y_axis_labels = [\"Positive\", \"Negative\"]\n",
    "sns.heatmap(cm, xticklabels=x_axis_labels, yticklabels=y_axis_labels, annot=cm)"
   ]
  },
  {
   "cell_type": "code",
   "execution_count": null,
   "metadata": {},
   "outputs": [],
   "source": []
  },
  {
   "cell_type": "markdown",
   "metadata": {},
   "source": [
    "# Just SVC\n"
   ]
  },
  {
   "cell_type": "code",
   "execution_count": 53,
   "metadata": {},
   "outputs": [],
   "source": [
    "from sklearn.svm import SVC\n",
    "from sklearn.pipeline import make_pipeline\n",
    "from sklearn.preprocessing import StandardScaler\n"
   ]
  },
  {
   "cell_type": "code",
   "execution_count": null,
   "metadata": {},
   "outputs": [],
   "source": [
    "# SVC + Tf IDF"
   ]
  },
  {
   "cell_type": "code",
   "execution_count": 54,
   "metadata": {},
   "outputs": [],
   "source": [
    "SVCclassifier = SVC()\n",
    "     \n",
    "SVCclassifier.fit(X_train_tf, y_train)\n",
    "y_pred = SVCclassifier.predict(X_test_tf)\n"
   ]
  },
  {
   "cell_type": "code",
   "execution_count": 55,
   "metadata": {},
   "outputs": [
    {
     "name": "stdout",
     "output_type": "stream",
     "text": [
      "accuracy:   0.890\n",
      "              precision    recall  f1-score   support\n",
      "\n",
      "    Positive       0.90      0.87      0.89      6184\n",
      "    Negative       0.88      0.91      0.89      6212\n",
      "\n",
      "    accuracy                           0.89     12396\n",
      "   macro avg       0.89      0.89      0.89     12396\n",
      "weighted avg       0.89      0.89      0.89     12396\n",
      "\n",
      "confusion matrix:\n",
      "[[5406  778]\n",
      " [ 583 5629]]\n",
      "------------------------------\n"
     ]
    },
    {
     "data": {
      "text/plain": [
       "<AxesSubplot:>"
      ]
     },
     "execution_count": 55,
     "metadata": {},
     "output_type": "execute_result"
    },
    {
     "data": {
      "image/png": "[encoded data removed]",
      "text/plain": [
       "<Figure size 432x288 with 2 Axes>"
      ]
     },
     "metadata": {
      "needs_background": "light"
     },
     "output_type": "display_data"
    }
   ],
   "source": [
    "# compute the performance measures\n",
    "score1 = metrics.accuracy_score(y_test, y_pred)\n",
    "print(\"accuracy:   %0.3f\" % score1)\n",
    "\n",
    "print(metrics.classification_report(y_test, y_pred,\n",
    "                                            target_names=['Positive', 'Negative']))\n",
    "\n",
    "print(\"confusion matrix:\")\n",
    "cm = metrics.confusion_matrix(y_test, y_pred)\n",
    "print(cm)\n",
    "\n",
    "print('------------------------------')\n",
    "\n",
    "import seaborn as sns   \n",
    "#sns.heatmap(cm, cmap=\"RdYlGn\", annot=True)\n",
    "x_axis_labels = [\"Positive\", \"Negative\"]\n",
    "y_axis_labels = [\"Positive\", \"Negative\"]\n",
    "sns.heatmap(cm, xticklabels=x_axis_labels, yticklabels=y_axis_labels, annot=cm)"
   ]
  },
  {
   "cell_type": "code",
   "execution_count": null,
   "metadata": {},
   "outputs": [],
   "source": []
  },
  {
   "cell_type": "markdown",
   "metadata": {},
   "source": [
    "# LogisticRegression\r\n",
    "\r\n",
    "#TF - IDF limited"
   ]
  },
  {
   "cell_type": "code",
   "execution_count": 99,
   "metadata": {},
   "outputs": [],
   "source": [
    "from sklearn.linear_model import LogisticRegression\r\n",
    "clf = LogisticRegression()\r\n",
    "clf.fit(X_train_tf, y_train)\r\n",
    "y_pred = clf.predict(X_test_tf)"
   ]
  },
  {
   "cell_type": "code",
   "execution_count": 100,
   "metadata": {},
   "outputs": [
    {
     "name": "stdout",
     "output_type": "stream",
     "text": [
      "accuracy:   0.886\n",
      "              precision    recall  f1-score   support\n",
      "\n",
      "    Positive       0.90      0.87      0.88      6184\n",
      "    Negative       0.87      0.90      0.89      6212\n",
      "\n",
      "    accuracy                           0.89     12396\n",
      "   macro avg       0.89      0.89      0.89     12396\n",
      "weighted avg       0.89      0.89      0.89     12396\n",
      "\n",
      "confusion matrix:\n",
      "[[5381  803]\n",
      " [ 613 5599]]\n",
      "------------------------------\n"
     ]
    },
    {
     "data": {
      "text/plain": [
       "<AxesSubplot:>"
      ]
     },
     "execution_count": 100,
     "metadata": {},
     "output_type": "execute_result"
    },
    {
     "data": {
      "image/png": "[encoded data removed]",
      "text/plain": [
       "<Figure size 432x288 with 2 Axes>"
      ]
     },
     "metadata": {
      "needs_background": "light"
     },
     "output_type": "display_data"
    }
   ],
   "source": [
    "# compute the performance measures\r\n",
    "score1 = metrics.accuracy_score(y_test, y_pred)\r\n",
    "print(\"accuracy:   %0.3f\" % score1)\r\n",
    "\r\n",
    "print(metrics.classification_report(y_test, y_pred,\r\n",
    "                                            target_names=['Positive', 'Negative']))\r\n",
    "\r\n",
    "print(\"confusion matrix:\")\r\n",
    "cm = metrics.confusion_matrix(y_test, y_pred)\r\n",
    "print(cm)\r\n",
    "\r\n",
    "print('------------------------------')\r\n",
    "\r\n",
    "import seaborn as sns   \r\n",
    "#sns.heatmap(cm, cmap=\"RdYlGn\", annot=True)\r\n",
    "x_axis_labels = [\"Positive\", \"Negative\"]\r\n",
    "y_axis_labels = [\"Positive\", \"Negative\"]\r\n",
    "sns.heatmap(cm, xticklabels=x_axis_labels, yticklabels=y_axis_labels, annot=cm)"
   ]
  },
  {
   "cell_type": "code",
   "execution_count": 101,
   "metadata": {},
   "outputs": [],
   "source": [
    "from sklearn.linear_model import LogisticRegression\r\n",
    "clf = LogisticRegression()\r\n",
    "clf.fit(X_train_tf2, y_train)\r\n",
    "y_pred = clf.predict(X_test_tf2)"
   ]
  },
  {
   "cell_type": "code",
   "execution_count": 102,
   "metadata": {},
   "outputs": [
    {
     "name": "stdout",
     "output_type": "stream",
     "text": [
      "accuracy:   0.885\n",
      "              precision    recall  f1-score   support\n",
      "\n",
      "    Positive       0.90      0.87      0.88      6184\n",
      "    Negative       0.87      0.90      0.89      6212\n",
      "\n",
      "    accuracy                           0.89     12396\n",
      "   macro avg       0.89      0.89      0.89     12396\n",
      "weighted avg       0.89      0.89      0.89     12396\n",
      "\n",
      "confusion matrix:\n",
      "[[5379  805]\n",
      " [ 619 5593]]\n",
      "------------------------------\n"
     ]
    },
    {
     "data": {
      "text/plain": [
       "<AxesSubplot:>"
      ]
     },
     "execution_count": 102,
     "metadata": {},
     "output_type": "execute_result"
    },
    {
     "data": {
      "image/png": "[encoded data removed]",
      "text/plain": [
       "<Figure size 432x288 with 2 Axes>"
      ]
     },
     "metadata": {
      "needs_background": "light"
     },
     "output_type": "display_data"
    }
   ],
   "source": [
    "# compute the performance measures\r\n",
    "score1 = metrics.accuracy_score(y_test, y_pred)\r\n",
    "print(\"accuracy:   %0.3f\" % score1)\r\n",
    "\r\n",
    "print(metrics.classification_report(y_test, y_pred,\r\n",
    "                                            target_names=['Positive', 'Negative']))\r\n",
    "\r\n",
    "print(\"confusion matrix:\")\r\n",
    "cm = metrics.confusion_matrix(y_test, y_pred)\r\n",
    "print(cm)\r\n",
    "\r\n",
    "print('------------------------------')\r\n",
    "\r\n",
    "import seaborn as sns   \r\n",
    "#sns.heatmap(cm, cmap=\"RdYlGn\", annot=True)\r\n",
    "x_axis_labels = [\"Positive\", \"Negative\"]\r\n",
    "y_axis_labels = [\"Positive\", \"Negative\"]\r\n",
    "sns.heatmap(cm, xticklabels=x_axis_labels, yticklabels=y_axis_labels, annot=cm)"
   ]
  }
 ],
 "metadata": {
  "interpreter": {
   "hash": "667ca60a478704bfa5da518afe7c27c3f3ee9b08e745470b300530584a74ae7b"
  },
  "kernelspec": {
   "display_name": "Python 3.8.5 64-bit ('base': conda)",
   "name": "python3"
  },
  "language_info": {
   "name": "python",
   "version": ""
  }
 },
 "nbformat": 4,
 "nbformat_minor": 4
}