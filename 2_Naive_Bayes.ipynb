{
 "cells": [
  {
   "cell_type": "code",
   "execution_count": 1,
   "metadata": {},
   "outputs": [],
   "source": [
    "import numpy as np\n",
    "import pandas as pd\n",
    "from time import time\n",
    "\n",
    "from sklearn.feature_extraction.text import TfidfVectorizer, CountVectorizer\n",
    "from sklearn.naive_bayes import MultinomialNB\n",
    "from sklearn import metrics \n",
    "from sklearn.metrics import confusion_matrix\n",
    "from sklearn.model_selection import train_test_split\n",
    "from sklearn.feature_extraction.text import TfidfVectorizer\n",
    "from sklearn.cluster import KMeans\n",
    "from sklearn.neighbors import KNeighborsClassifier\n",
    "from sklearn.metrics import plot_confusion_matrix   \n",
    "from sklearn.linear_model import LogisticRegression\n",
    "from sklearn.svm import LinearSVC\n",
    "# predict the new document from the testing dataset\n",
    "from sklearn.metrics import plot_confusion_matrix    \n",
    "from sklearn.svm import SVC\n",
    "from sklearn import svm\n",
    "from sklearn.preprocessing import StandardScaler\n",
    "\n",
    "\n",
    "import matplotlib.pyplot as plt \n",
    "import numpy\n",
    "import seaborn as sns"
   ]
  },
  {
   "cell_type": "markdown",
   "metadata": {},
   "source": [
    "# Loading pre-processed data "
   ]
  },
  {
   "cell_type": "code",
   "execution_count": 3,
   "metadata": {},
   "outputs": [],
   "source": [
    "data = pd.read_csv('cleaned_data.csv') # load cleaned data"
   ]
  },
  {
   "cell_type": "markdown",
   "metadata": {},
   "source": [
    "# Devide data to test and training data"
   ]
  },
  {
   "cell_type": "code",
   "execution_count": 5,
   "metadata": {},
   "outputs": [],
   "source": [
    "# mapping the sentiment as 0 for neg and 1 for positive\n",
    "data['sentiment'] = data['sentiment'].map({'positive':1,'negative':0})"
   ]
  },
  {
   "cell_type": "code",
   "execution_count": 6,
   "metadata": {},
   "outputs": [],
   "source": [
    "\n",
    "X_train, X_test, y_train, y_test = train_test_split(data['lemmatization'], data[\"sentiment\"], train_size = 0.75)\n"
   ]
  },
  {
   "cell_type": "markdown",
   "metadata": {},
   "source": [
    "# Prepare TF - IDF"
   ]
  },
  {
   "cell_type": "code",
   "execution_count": 7,
   "metadata": {},
   "outputs": [
    {
     "name": "stdout",
     "output_type": "stream",
     "text": [
      "n_samples: 37186, n_features: 46156\n",
      "n_samples: 12396, n_features: 46156\n"
     ]
    }
   ],
   "source": [
    "tf_vectorizer = TfidfVectorizer(min_df=2) # create Object of class TfidfVectorizer\n",
    "#, min_df=5, max_df=0.3\n",
    "X_train_tf = tf_vectorizer.fit_transform(X_train) # run method fit_transform on training set\n",
    "X_test_tf = tf_vectorizer.transform(X_test)\n",
    "print(\"n_samples: %d, n_features: %d\" % X_train_tf.shape)\n",
    "print(\"n_samples: %d, n_features: %d\" % X_test_tf.shape)"
   ]
  },
  {
   "cell_type": "markdown",
   "metadata": {},
   "source": [
    "# Prepare TF - IDF with limited number of words"
   ]
  },
  {
   "cell_type": "code",
   "execution_count": 96,
   "metadata": {},
   "outputs": [
    {
     "name": "stdout",
     "output_type": "stream",
     "text": [
      "n_samples: 37186, n_features: 28287\n",
      "n_samples: 12396, n_features: 28287\n"
     ]
    }
   ],
   "source": [
    "tf_vectorizer2 = TfidfVectorizer(min_df=5,  max_df=0.2 ) # create Object of class TfidfVectorizer\n",
    "#, min_df=5, max_df=0.3\n",
    "X_train_tf2 = tf_vectorizer2.fit_transform(X_train) # run method fit_transform on training set\n",
    "X_test_tf2 = tf_vectorizer2.transform(X_test)\n",
    " \n",
    "print(\"n_samples: %d, n_features: %d\" % X_train_tf2.shape)\n",
    "print(\"n_samples: %d, n_features: %d\" % X_test_tf2.shape)\n",
    "\n",
    " "
   ]
  },
  {
   "cell_type": "markdown",
   "metadata": {},
   "source": [
    "# Prepare Count Vectorizer"
   ]
  },
  {
   "cell_type": "code",
   "execution_count": 10,
   "metadata": {},
   "outputs": [
    {
     "name": "stdout",
     "output_type": "stream",
     "text": [
      "n_samples: 37186, n_features: 81271\n",
      "n_samples: 12396, n_features: 81271\n"
     ]
    }
   ],
   "source": [
    "count_vectorizer = CountVectorizer() # or term frequency\n",
    "X_train_cv = count_vectorizer.fit_transform(X_train)\n",
    "X_test_cv = count_vectorizer.transform(X_test)\n",
    "print(\"n_samples: %d, n_features: %d\" % X_train_cv.shape)\n",
    "print(\"n_samples: %d, n_features: %d\" % X_test_cv.shape)"
   ]
  },
  {
   "cell_type": "markdown",
   "metadata": {},
   "source": [
    "#  Naives Bayes"
   ]
  },
  {
   "cell_type": "raw",
   "metadata": {},
   "source": [
    "#  Naives Bayes + TF-Idf"
   ]
  },
  {
   "cell_type": "code",
   "execution_count": 11,
   "metadata": {},
   "outputs": [],
   "source": [
    "naive_bayes_classifier = MultinomialNB() # create object naive_bayes_classifier\n",
    "naive_bayes_classifier.fit(X_train_tf, y_train) # run method fit from the class MultinomialNB\n",
    "y_pred = naive_bayes_classifier.predict(X_test_tf)\n",
    " \n",
    "# compute the performance measures\n",
    "score1 = metrics.accuracy_score(y_test, y_pred)\n",
    "print(\"accuracy:   %0.3f\" % score1)\n",
    "\n",
    "print(metrics.classification_report(y_test, y_pred,\n",
    "                                            target_names=['Positive', 'Negative']))\n",
    "\n",
    "print(\"confusion matrix:\")\n",
    "cm = metrics.confusion_matrix(y_test, y_pred)\n",
    "print (cm)\n",
    "print('------------------------------')"
   ]
  },
  {
   "cell_type": "code",
   "execution_count": 14,
   "metadata": {},
   "outputs": [],
   "source": [
    "# FOR PRESENTATION\n",
    "cm1=confusion_matrix(y_test, y_pred)"
   ]
  },
  {
   "cell_type": "markdown",
   "metadata": {},
   "source": [
    "#Naives Bayes + Count Vector"
   ]
  },
  {
   "cell_type": "code",
   "execution_count": 15,
   "metadata": {},
   "outputs": [],
   "source": [
    "naive_bayes_classifier = MultinomialNB() # create object naive_bayes_classifier\n",
    "naive_bayes_classifier.fit(X_train_cv, y_train) # run method fit from the class MultinomialNB\n",
    "y_pred = naive_bayes_classifier.predict(X_test_cv)\n",
    "\n",
    "# compute the performance measures\n",
    "score1 = metrics.accuracy_score(y_test, y_pred)\n",
    "print(\"accuracy:   %0.3f\" % score1)\n",
    "\n",
    "print(metrics.classification_report(y_test, y_pred,\n",
    "                                            target_names=['Positive', 'Negative']))\n",
    "\n",
    "print(\"confusion matrix:\")\n",
    "cm = metrics.confusion_matrix(y_test, y_pred)\n",
    "print (cm)\n",
    "print('------------------------------')\n",
    " \n",
    " \n",
    " "
   ]
  },
  {
   "cell_type": "markdown",
   "metadata": {},
   "source": [
    "#Naives Bayes + TF-Idf limited "
   ]
  },
  {
   "cell_type": "code",
   "execution_count": 59,
   "metadata": {},
   "outputs": [],
   "source": [
    "naive_bayes_classifier2 = MultinomialNB() # create object naive_bayes_classifier\n",
    "naive_bayes_classifier2.fit(X_train_tf2, y_train) # run method fit from the class MultinomialNB\n",
    "y_pred = naive_bayes_classifier2.predict(X_test_tf2)\n",
    "\n",
    "# compute the performance measures\n",
    "score1 = metrics.accuracy_score(y_test, y_pred)\n",
    "print(\"accuracy:   %0.3f\" % score1)\n",
    "\n",
    "print(metrics.classification_report(y_test, y_pred,\n",
    "                                            target_names=['Positive', 'Negative']))\n",
    "\n",
    "print(\"confusion matrix:\")\n",
    "print(metrics.confusion_matrix(y_test, y_pred))\n",
    "\n",
    "print('------------------------------')\n",
    " "
   ]
  },
  {
   "cell_type": "markdown",
   "metadata": {},
   "source": [
    "# Linear Support Vector Classification"
   ]
  },
  {
   "cell_type": "code",
   "execution_count": null,
   "metadata": {},
   "outputs": [],
   "source": [
    "# LinearSVC + Tf IDF"
   ]
  },
  {
   "cell_type": "code",
   "execution_count": 41,
   "metadata": {},
   "outputs": [],
   "source": [
    "\n",
    "    \n",
    "SVclassifier = LinearSVC()\n",
    "SVclassifier.fit(X_train_tf, y_train)\n",
    "y_pred = SVclassifier.predict(X_test_tf)\n",
    "#result LinearSVC + Tf IDF\n",
    "# compute the performance measures\n",
    "score1 = metrics.accuracy_score(y_test, y_pred)\n",
    "print(\"accuracy:   %0.3f\" % score1)\n",
    "\n",
    "print(metrics.classification_report(y_test, y_pred,\n",
    "                                            target_names=['Positive', 'Negative']))\n",
    "\n",
    "print(\"confusion matrix:\")\n",
    "print(cm)\n",
    "print('------------------------------')\n",
    "\n"
   ]
  },
  {
   "cell_type": "code",
   "execution_count": null,
   "metadata": {},
   "outputs": [],
   "source": [
    "#FOR presentation \n",
    "cm2 = metrics.confusion_matrix(y_test, y_pred)\n"
   ]
  },
  {
   "cell_type": "code",
   "execution_count": null,
   "metadata": {},
   "outputs": [],
   "source": [
    "#LinearSVC + Tf IDF limited"
   ]
  },
  {
   "cell_type": "code",
   "execution_count": 43,
   "metadata": {},
   "outputs": [],
   "source": [
    "SVclassifier = LinearSVC()\n",
    "SVclassifier.fit(X_train_tf2, y_train)\n",
    "y_pred = SVclassifier.predict(X_test_tf2)\n",
    "#result LinearSVC + Tf IDF limited\n",
    "# compute the performance measures\n",
    "score1 = metrics.accuracy_score(y_test, y_pred)\n",
    "print(\"accuracy:   %0.3f\" % score1)\n",
    "\n",
    "print(metrics.classification_report(y_test, y_pred,\n",
    "                                            target_names=['Positive', 'Negative']))\n",
    "\n",
    "print(\"confusion matrix:\")\n",
    "cm = metrics.confusion_matrix(y_test, y_pred)\n",
    "print(cm)\n",
    "\n",
    "print('------------------------------')\n",
    "\n"
   ]
  },
  {
   "cell_type": "code",
   "execution_count": null,
   "metadata": {},
   "outputs": [],
   "source": [
    "# LinearSVC + Count Vect"
   ]
  },
  {
   "cell_type": "code",
   "execution_count": 46,
   "metadata": {},
   "outputs": [
    {
     "name": "stderr",
     "output_type": "stream",
     "text": [
      "C:\\Users\\CGosten\\miniconda3\\lib\\site-packages\\sklearn\\svm\\_base.py:985: ConvergenceWarning: Liblinear failed to converge, increase the number of iterations.\n",
      "  warnings.warn(\"Liblinear failed to converge, increase \"\n"
     ]
    }
   ],
   "source": [
    "SVclassifier = LinearSVC()\n",
    "SVclassifier.fit(X_train_cv, y_train)\n",
    "y_pred = SVclassifier.predict(X_test_cv)\n",
    "# Linear Support Vector Classification\n",
    "# compute the performance measures\n",
    "score1 = metrics.accuracy_score(y_test, y_pred)\n",
    "print(\"accuracy:   %0.3f\" % score1)\n",
    "\n",
    "print(metrics.classification_report(y_test, y_pred,\n",
    "                                            target_names=['Positive', 'Negative']))\n",
    "\n",
    "print(\"confusion matrix:\")\n",
    "cm = metrics.confusion_matrix(y_test, y_pred)\n",
    "print(cm)\n",
    "\n",
    "print('------------------------------')\n",
    " \n"
   ]
  },
  {
   "cell_type": "markdown",
   "metadata": {},
   "source": [
    "# LogisticRegression\n",
    "\n",
    " "
   ]
  },
  {
   "cell_type": "markdown",
   "metadata": {},
   "source": [
    "#LogisticRegression + TF - IDF"
   ]
  },
  {
   "cell_type": "code",
   "execution_count": 99,
   "metadata": {},
   "outputs": [],
   "source": [
    "clf = LogisticRegression()\n",
    "clf.fit(X_train_tf, y_train)\n",
    "y_pred = clf.predict(X_test_tf)\n",
    "# compute the performance measures\n",
    "score1 = metrics.accuracy_score(y_test, y_pred)\n",
    "print(\"accuracy:   %0.3f\" % score1)\n",
    "\n",
    "print(metrics.classification_report(y_test, y_pred,\n",
    "                                            target_names=['Positive', 'Negative']))\n",
    "\n",
    "print(\"confusion matrix:\")\n",
    "cm = metrics.confusion_matrix(y_test, y_pred)\n",
    "print(cm)\n",
    "\n",
    "print('------------------------------')"
   ]
  },
  {
   "cell_type": "markdown",
   "metadata": {},
   "source": [
    "#LogisticRegression + TF - IDF  limited"
   ]
  },
  {
   "cell_type": "code",
   "execution_count": 101,
   "metadata": {},
   "outputs": [],
   "source": [
    "clf = LogisticRegression()\n",
    "clf.fit(X_train_tf2, y_train)\n",
    "y_pred = clf.predict(X_test_tf2)\n",
    "# compute the performance measures\n",
    "score1 = metrics.accuracy_score(y_test, y_pred)\n",
    "print(\"accuracy:   %0.3f\" % score1)\n",
    "\n",
    "print(metrics.classification_report(y_test, y_pred,\n",
    "                                            target_names=['Positive', 'Negative']))\n",
    "\n",
    "print(\"confusion matrix:\")\n",
    "cm = metrics.confusion_matrix(y_test, y_pred)\n",
    "print(cm)\n",
    "\n",
    "print('------------------------------')"
   ]
  },
  {
   "cell_type": "markdown",
   "metadata": {},
   "source": [
    "#LogisticRegression + Count Vect"
   ]
  },
  {
   "cell_type": "code",
   "execution_count": null,
   "metadata": {},
   "outputs": [],
   "source": [
    "clf = LogisticRegression()\n",
    "clf.fit(X_train_cv, y_train)\n",
    "y_pred = clf.predict(X_test_cv)\n",
    "# compute the performance measures\n",
    "score1 = metrics.accuracy_score(y_test, y_pred)\n",
    "print(\"accuracy:   %0.3f\" % score1)\n",
    "\n",
    "print(metrics.classification_report(y_test, y_pred,\n",
    "                                            target_names=['Positive', 'Negative']))\n",
    "\n",
    "print(\"confusion matrix:\")\n",
    "cm = metrics.confusion_matrix(y_test, y_pred)\n",
    "print(cm)\n",
    "\n",
    "print('------------------------------')"
   ]
  },
  {
   "cell_type": "markdown",
   "metadata": {},
   "source": [
    "#  SVC (Basic)\n"
   ]
  },
  {
   "cell_type": "markdown",
   "metadata": {},
   "source": [
    "#SVC + Tf IDF"
   ]
  },
  {
   "cell_type": "code",
   "execution_count": 54,
   "metadata": {},
   "outputs": [],
   "source": [
    "SVCclassifier = SVC()     \n",
    "SVCclassifier.fit(X_train_tf, y_train)\n",
    "y_pred = SVCclassifier.predict(X_test_tf)\n",
    "# compute the performance measures\n",
    "score1 = metrics.accuracy_score(y_test, y_pred)\n",
    "print(\"accuracy:   %0.3f\" % score1)\n",
    "\n",
    "print(metrics.classification_report(y_test, y_pred,\n",
    "                                            target_names=['Positive', 'Negative']))\n",
    "\n",
    "print(\"confusion matrix:\")\n",
    "cm = metrics.confusion_matrix(y_test, y_pred)\n",
    "print(cm)\n",
    "\n",
    "print('------------------------------')\n"
   ]
  },
  {
   "cell_type": "markdown",
   "metadata": {},
   "source": [
    "#SVC + Tf IDF limited"
   ]
  },
  {
   "cell_type": "code",
   "execution_count": null,
   "metadata": {},
   "outputs": [],
   "source": [
    "SVCclassifier = SVC()     \n",
    "SVCclassifier.fit(X_train_tf2, y_train)\n",
    "y_pred = SVCclassifier.predict(X_test_tf2)\n",
    "# compute the performance measures\n",
    "score1 = metrics.accuracy_score(y_test, y_pred)\n",
    "print(\"accuracy:   %0.3f\" % score1)\n",
    "\n",
    "print(metrics.classification_report(y_test, y_pred,\n",
    "                                            target_names=['Positive', 'Negative']))\n",
    "\n",
    "print(\"confusion matrix:\")\n",
    "cm = metrics.confusion_matrix(y_test, y_pred)\n",
    "print(cm)\n",
    "\n",
    "print('------------------------------')\n"
   ]
  },
  {
   "cell_type": "markdown",
   "metadata": {},
   "source": [
    "#SVC + CV"
   ]
  },
  {
   "cell_type": "code",
   "execution_count": null,
   "metadata": {},
   "outputs": [],
   "source": [
    "SVCclassifier = SVC()     \n",
    "SVCclassifier.fit(X_train_cv, y_train)\n",
    "y_pred = SVCclassifier.predict(X_test_cv)\n",
    "# compute the performance measures\n",
    "score1 = metrics.accuracy_score(y_test, y_pred)\n",
    "print(\"accuracy:   %0.3f\" % score1)\n",
    "\n",
    "print(metrics.classification_report(y_test, y_pred,\n",
    "                                            target_names=['Positive', 'Negative']))\n",
    "\n",
    "print(\"confusion matrix:\")\n",
    "cm = metrics.confusion_matrix(y_test, y_pred)\n",
    "print(cm)\n",
    "\n",
    "print('------------------------------')\n"
   ]
  },
  {
   "cell_type": "markdown",
   "metadata": {},
   "source": [
    "#  SVM with the Radial Basis Function"
   ]
  },
  {
   "cell_type": "code",
   "execution_count": null,
   "metadata": {},
   "outputs": [],
   "source": [
    "#Takes to much time, just for testing"
   ]
  },
  {
   "cell_type": "code",
   "execution_count": null,
   "metadata": {},
   "outputs": [],
   "source": [
    "#SVM(rbf) + TD-IDF"
   ]
  },
  {
   "cell_type": "code",
   "execution_count": 49,
   "metadata": {},
   "outputs": [],
   "source": [
    "rbf_svc = svm.SVC(kernel='rbf')\n",
    "rbf_svc.fit(X_train_tf, y_train)\n",
    "y_pred = rbf_svc.predict(X_test_tf)\n",
    "# compute the performance measures\n",
    "score1 = metrics.accuracy_score(y_test, y_pred)\n",
    "print(\"accuracy:   %0.3f\" % score1)\n",
    "\n",
    "print(metrics.classification_report(y_test, y_pred,\n",
    "                                            target_names=['Positive', 'Negative']))\n",
    "\n",
    "print(\"confusion matrix:\")\n",
    "cm = metrics.confusion_matrix(y_test, y_pred)\n",
    "print(cm)\n",
    "\n",
    "print('------------------------------')"
   ]
  },
  {
   "cell_type": "code",
   "execution_count": 51,
   "metadata": {},
   "outputs": [],
   "source": [
    "#SVM(rbf) + TD-IDF limited"
   ]
  },
  {
   "cell_type": "code",
   "execution_count": 52,
   "metadata": {},
   "outputs": [
    {
     "name": "stdout",
     "output_type": "stream",
     "text": [
      "accuracy:   0.890\n",
      "              precision    recall  f1-score   support\n",
      "\n",
      "    Positive       0.90      0.87      0.89      6184\n",
      "    Negative       0.88      0.91      0.89      6212\n",
      "\n",
      "    accuracy                           0.89     12396\n",
      "   macro avg       0.89      0.89      0.89     12396\n",
      "weighted avg       0.89      0.89      0.89     12396\n",
      "\n",
      "confusion matrix:\n",
      "[[5406  778]\n",
      " [ 583 5629]]\n",
      "------------------------------\n"
     ]
    },
    {
     "data": {
      "text/plain": [
       "<AxesSubplot:>"
      ]
     },
     "execution_count": 52,
     "metadata": {},
     "output_type": "execute_result"
    },
    {
     "data": {
      "image/png": "[encoded data removed]",
      "text/plain": [
       "<Figure size 432x288 with 2 Axes>"
      ]
     },
     "metadata": {
      "needs_background": "light"
     },
     "output_type": "display_data"
    }
   ],
   "source": [
    "rbf_svc = svm.SVC(kernel='rbf')\n",
    "rbf_svc.fit(X_train_tf2, y_train)\n",
    "y_pred = rbf_svc.predict(X_test_tf2)\n",
    "# compute the performance measures\n",
    "score1 = metrics.accuracy_score(y_test, y_pred)\n",
    "print(\"accuracy:   %0.3f\" % score1)\n",
    "\n",
    "print(metrics.classification_report(y_test, y_pred,\n",
    "                                            target_names=['Positive', 'Negative']))\n",
    "\n",
    "print(\"confusion matrix:\")\n",
    "cm = metrics.confusion_matrix(y_test, y_pred)\n",
    "print(cm)\n",
    "\n",
    "print('------------------------------')"
   ]
  },
  {
   "cell_type": "code",
   "execution_count": null,
   "metadata": {},
   "outputs": [],
   "source": [
    "#SVM(rbf) + cv"
   ]
  },
  {
   "cell_type": "code",
   "execution_count": null,
   "metadata": {},
   "outputs": [],
   "source": [
    "rbf_svc = svm.SVC(kernel='rbf')\n",
    "rbf_svc.fit(X_train_cv, y_train)\n",
    "y_pred = rbf_svc.predict(X_test_cv)\n",
    "# compute the performance measures\n",
    "score1 = metrics.accuracy_score(y_test, y_pred)\n",
    "print(\"accuracy:   %0.3f\" % score1)\n",
    "\n",
    "print(metrics.classification_report(y_test, y_pred,\n",
    "                                            target_names=['Positive', 'Negative']))\n",
    "\n",
    "print(\"confusion matrix:\")\n",
    "cm = metrics.confusion_matrix(y_test, y_pred)\n",
    "print(cm)\n",
    "\n",
    "print('------------------------------')"
   ]
  },
  {
   "cell_type": "markdown",
   "metadata": {},
   "source": [
    "# For presi\n"
   ]
  },
  {
   "cell_type": "code",
   "execution_count": 45,
   "metadata": {},
   "outputs": [
    {
     "data": {
      "text/plain": [
       "Text(0.5, 1.0, 'With SVCLinear Td-idf ')"
      ]
     },
     "execution_count": 45,
     "metadata": {},
     "output_type": "execute_result"
    },
    {
     "data": {
      "image/png": "[encoded data removed]",
      "text/plain": [
       "<Figure size 1080x360 with 4 Axes>"
      ]
     },
     "metadata": {
      "needs_background": "light"
     },
     "output_type": "display_data"
    }
   ],
   "source": [
    "fig, axis = plt.subplots(1, 2, figsize=(15, 5))\n",
    "x_axis_labels = [\"Positive\", \"Negative\"]\n",
    "y_axis_labels = [\"Positive\", \"Negative\"]\n",
    "\n",
    "\n",
    "C1 = cm1.astype('float') / cm1.sum(axis=1)[:, np.newaxis]\n",
    "C2 = cm2.astype('float') / cm2.sum(axis=1)[:, np.newaxis]\n",
    "\n",
    "sns.heatmap(ax = axis[0],data= cm1,annot=C1, xticklabels=x_axis_labels, yticklabels=y_axis_labels )\n",
    "axis[0].set_title(\"With Naive Bayes Tf- IDF\")\n",
    "\n",
    "sns.heatmap(ax = axis[1],data=cm2,annot=C2,  xticklabels=x_axis_labels, yticklabels=y_axis_labels)\n",
    "axis[1].set_title(\"With SVCLinear Td-idf \")\n",
    "\n",
    "\n"
   ]
  },
  {
   "cell_type": "markdown",
   "metadata": {},
   "source": [
    "# KNeighborsClassifier"
   ]
  },
  {
   "cell_type": "markdown",
   "metadata": {},
   "source": [
    "#KNeighborsClassifier  - TF IDF"
   ]
  },
  {
   "cell_type": "code",
   "execution_count": 23,
   "metadata": {},
   "outputs": [],
   "source": [
    "# K von 1 bis 10 "
   ]
  },
  {
   "cell_type": "code",
   "execution_count": 24,
   "metadata": {},
   "outputs": [],
   "source": [
    "error_rate = []\n",
    "minR = 1 \n",
    "maxR = 10\n",
    "for i in range(minR, maxR):\n",
    " knn = KNeighborsClassifier(n_neighbors=i)\n",
    " knn.fit(X_train_tf,y_train)\n",
    " pred_i = knn.predict(X_test_tf)\n",
    " error_rate.append(np.mean(pred_i != y_test))\n",
    "\n",
    "\n",
    "plt.figure(figsize=(10,6))\n",
    "plt.plot(np.array(range(minR, maxR)), np.array(error_rate),color='blue', linestyle='dashed', \n",
    "         marker='o',markerfacecolor='red', markersize=10)\n",
    "plt.title('Error Rate vs. K Value')\n",
    "plt.xlabel('K')\n",
    "plt.ylabel('Error Rate')\n",
    "print(\"Minimum error:-\",numpy.min(error_rate),\"at K =\",error_rate.index(numpy.min(error_rate))+1)\n"
   ]
  },
  {
   "cell_type": "code",
   "execution_count": 25,
   "metadata": {},
   "outputs": [
    {
     "name": "stdout",
     "output_type": "stream",
     "text": [
      "Minimum error:- 0.23289770893836723 at K = 8\n"
     ]
    },
    {
     "data": {
      "image/png": "[encoded data removed]",
      "text/plain": [
       "<Figure size 720x432 with 1 Axes>"
      ]
     },
     "metadata": {
      "needs_background": "light"
     },
     "output_type": "display_data"
    }
   ],
   "source": []
  },
  {
   "cell_type": "code",
   "execution_count": 27,
   "metadata": {},
   "outputs": [],
   "source": [
    "# K means 1-10 TF- IDF limited"
   ]
  },
  {
   "cell_type": "code",
   "execution_count": 66,
   "metadata": {},
   "outputs": [],
   "source": [
    "error_rate = []\n",
    "minR = 1 \n",
    "maxR = 10\n",
    "for i in range(minR, maxR):\n",
    " knn = KNeighborsClassifier(n_neighbors=i)\n",
    " knn.fit(X_train_tf2,y_train)\n",
    " pred_i = knn.predict(X_test_tf2)\n",
    " error_rate.append(np.mean(pred_i != y_test))\n",
    "\n",
    "\n",
    "plt.figure(figsize=(10,6))\n",
    "plt.plot(np.array(range(minR, maxR)), np.array(error_rate),color='blue', linestyle='dashed', \n",
    "         marker='o',markerfacecolor='red', markersize=10)\n",
    "plt.title('Error Rate vs. K Value')\n",
    "plt.xlabel('K')\n",
    "plt.ylabel('Error Rate')\n",
    "print(\"Minimum error:-\",numpy.min(error_rate),\"at K =\",error_rate.index(numpy.min(error_rate))+1)\n",
    "\n"
   ]
  },
  {
   "cell_type": "code",
   "execution_count": 68,
   "metadata": {},
   "outputs": [
    {
     "name": "stdout",
     "output_type": "stream",
     "text": [
      "Minimum error:- 0.23668925459825751 at K = 6\n"
     ]
    },
    {
     "data": {
      "image/png": "[encoded data removed]",
      "text/plain": [
       "<Figure size 720x432 with 1 Axes>"
      ]
     },
     "metadata": {
      "needs_background": "light"
     },
     "output_type": "display_data"
    }
   ],
   "source": []
  },
  {
   "cell_type": "code",
   "execution_count": 30,
   "metadata": {},
   "outputs": [],
   "source": [
    "# K means 1-10 CV "
   ]
  },
  {
   "cell_type": "code",
   "execution_count": 63,
   "metadata": {},
   "outputs": [],
   "source": [
    "error_rate = []\n",
    "minR = 1 \n",
    "maxR = 10\n",
    "for i in range(minR, maxR):\n",
    " knn = KNeighborsClassifier(n_neighbors=i)\n",
    " knn.fit(X_train_cv,y_train)\n",
    " pred_i = knn.predict(X_test_cv)\n",
    " error_rate.append(np.mean(pred_i != y_test))\n",
    "\n",
    "\n",
    "plt.figure(figsize=(10,6))\n",
    "plt.plot(np.array(range(minR, maxR)), np.array(error_rate),color='blue', linestyle='dashed', \n",
    "         marker='o',markerfacecolor='red', markersize=10)\n",
    "plt.title('Error Rate vs. K Value')\n",
    "plt.xlabel('K')\n",
    "plt.ylabel('Error Rate')\n",
    "print(\"Minimum error:-\",numpy.min(error_rate),\"at K =\",error_rate.index(numpy.min(error_rate))+1)\n",
    "\n"
   ]
  },
  {
   "cell_type": "code",
   "execution_count": 64,
   "metadata": {},
   "outputs": [
    {
     "name": "stdout",
     "output_type": "stream",
     "text": [
      "Minimum error:- 0.34551468215553405 at K = 9\n"
     ]
    },
    {
     "data": {
      "image/png": "[encoded data removed]",
      "text/plain": [
       "<Figure size 720x432 with 1 Axes>"
      ]
     },
     "metadata": {
      "needs_background": "light"
     },
     "output_type": "display_data"
    }
   ],
   "source": []
  },
  {
   "cell_type": "markdown",
   "metadata": {},
   "source": [
    "# K means from 10 till 100 "
   ]
  },
  {
   "cell_type": "code",
   "execution_count": 34,
   "metadata": {},
   "outputs": [],
   "source": [
    "error_rate = []\n",
    "minR = 10 \n",
    "maxR = 100\n",
    "for i in range(10, 100, 10):\n",
    " knn = KNeighborsClassifier(n_neighbors=i)\n",
    " knn.fit(X_train_tf,y_train)\n",
    " pred_i = knn.predict(X_test_tf)\n",
    " error_rate.append(np.mean(pred_i != y_test))\n"
   ]
  },
  {
   "cell_type": "code",
   "execution_count": 35,
   "metadata": {},
   "outputs": [
    {
     "name": "stdout",
     "output_type": "stream",
     "text": [
      "Minimum error:- 0.21200387221684414 at K = 7\n"
     ]
    },
    {
     "data": {
      "image/png": "[encoded data removed]",
      "text/plain": [
       "<Figure size 720x432 with 1 Axes>"
      ]
     },
     "metadata": {
      "needs_background": "light"
     },
     "output_type": "display_data"
    }
   ],
   "source": [
    "\n",
    "plt.figure(figsize=(10,6))\n",
    "plt.plot(np.array(range(minR, maxR, 10)), np.array(error_rate),color='blue', linestyle='dashed', \n",
    "         marker='o',markerfacecolor='red', markersize=10)\n",
    "plt.title('Error Rate vs. K Value')\n",
    "plt.xlabel('K')\n",
    "plt.ylabel('Error Rate')\n",
    "print(\"Minimum error:-\",numpy.min(error_rate))\n"
   ]
  },
  {
   "cell_type": "markdown",
   "metadata": {},
   "source": [
    "# K Means from 100 to 1000"
   ]
  },
  {
   "cell_type": "code",
   "execution_count": 36,
   "metadata": {},
   "outputs": [],
   "source": [
    "error_rate = []\n",
    "minR = 100 \n",
    "maxR = 10000\n",
    "for i in range(100, 10000, 1000):\n",
    " knn = KNeighborsClassifier(n_neighbors=i)\n",
    " knn.fit(X_train_tf,y_train)\n",
    " pred_i = knn.predict(X_test_tf)\n",
    " error_rate.append(np.mean(pred_i != y_test))\n"
   ]
  },
  {
   "cell_type": "code",
   "execution_count": 37,
   "metadata": {},
   "outputs": [
    {
     "name": "stdout",
     "output_type": "stream",
     "text": [
      "Minimum error:- 0.17408841561794128 at K = 3\n"
     ]
    },
    {
     "data": {
      "image/png": "[encoded data removed]",
      "text/plain": [
       "<Figure size 720x432 with 1 Axes>"
      ]
     },
     "metadata": {
      "needs_background": "light"
     },
     "output_type": "display_data"
    }
   ],
   "source": [
    "\n",
    "plt.figure(figsize=(10,6))\n",
    "plt.plot(np.array(range(minR, maxR, 1000)), np.array(error_rate),color='blue', linestyle='dashed', \n",
    "         marker='o',markerfacecolor='red', markersize=10)\n",
    "plt.title('Error Rate vs. K Value')\n",
    "plt.xlabel('K')\n",
    "plt.ylabel('Error Rate')\n",
    "print(\"Minimum error:-\",numpy.min(error_rate),\"at K =\",error_rate.index(numpy.min(error_rate))+1)\n"
   ]
  }
 ],
 "metadata": {
  "interpreter": {
   "hash": "667ca60a478704bfa5da518afe7c27c3f3ee9b08e745470b300530584a74ae7b"
  },
  "kernelspec": {
   "display_name": "Python 3",
   "language": "python",
   "name": "python3"
  },
  "language_info": {
   "codemirror_mode": {
    "name": "ipython",
    "version": 3
   },
   "file_extension": ".py",
   "mimetype": "text/x-python",
   "name": "python",
   "nbconvert_exporter": "python",
   "pygments_lexer": "ipython3",
   "version": "3.8.5"
  }
 },
 "nbformat": 4,
 "nbformat_minor": 4
}
